{
 "cells": [
  {
   "cell_type": "code",
   "execution_count": 1,
   "id": "daf8ded6-1efb-4a36-bbfa-a551bdaada10",
   "metadata": {},
   "outputs": [
    {
     "name": "stdout",
     "output_type": "stream",
     "text": [
      "Logistic Regression Experiments\n"
     ]
    }
   ],
   "source": [
    "print(\"Logistic Regression Experiments\")"
   ]
  },
  {
   "cell_type": "code",
   "execution_count": null,
   "id": "6ef23d12-de29-4343-82f5-d7f34f8dc1be",
   "metadata": {},
   "outputs": [],
   "source": []
  }
 ],
 "metadata": {
  "kernelspec": {
   "display_name": "Python 3 (ipykernel)",
   "language": "python",
   "name": "python3"
  },
  "language_info": {
   "codemirror_mode": {
    "name": "ipython",
    "version": 3
   },
   "file_extension": ".py",
   "mimetype": "text/x-python",
   "name": "python",
   "nbconvert_exporter": "python",
   "pygments_lexer": "ipython3",
   "version": "3.10.9"
  }
 },
 "nbformat": 4,
 "nbformat_minor": 5
}
